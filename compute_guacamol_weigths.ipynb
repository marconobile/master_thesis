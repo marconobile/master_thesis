{
 "cells": [
  {
   "cell_type": "code",
   "execution_count": 1,
   "metadata": {},
   "outputs": [],
   "source": [
    "def read_smiles_from_file(pathfile: str):\n",
    "    with open(pathfile) as file:\n",
    "        return [line.rstrip() for line in file]"
   ]
  },
  {
   "cell_type": "code",
   "execution_count": 2,
   "metadata": {},
   "outputs": [],
   "source": [
    "guacm_smiles = \"/home/nobilm@usi.ch/master_thesis/guacamol/guacamol_v1_train.smiles\"\n",
    "smiles = read_smiles_from_file(guacm_smiles)"
   ]
  },
  {
   "cell_type": "code",
   "execution_count": 6,
   "metadata": {},
   "outputs": [],
   "source": [
    "from collections import Counter\n",
    "from rdkit import Chem\n",
    "\n",
    "c = Counter()\n",
    "cc = Counter()\n",
    "\n",
    "\n",
    "def get_atoms_info(mols):\n",
    "    atoms = set()\n",
    "    max_num = 0\n",
    "    for num_mol, m in enumerate(mols):\n",
    "        if m.GetNumAtoms() > max_num: max_num = m.GetNumAtoms()\n",
    "\n",
    "        atom_types = [atom.GetSymbol() for atom in m.GetAtoms()]\n",
    "        bond_types = [bond.GetBondType() for bond in m.GetBonds()]\n",
    "\n",
    "        c.update(atom_types)\n",
    "        cc.update(bond_types)\n",
    "        \n",
    "        for atom in atom_types:\n",
    "            atoms.add(atom)\n",
    "        \n",
    "    atom2num = {}\n",
    "    for i, atomType in enumerate(atoms):\n",
    "        atom2num[str(atomType)] = i\n",
    "\n",
    "    num2atom = {v:k for k,v in atom2num.items()}\n",
    "    print(\"TOTAL NUM OF MOLS: \", num_mol)\n",
    "    return atom2num, num2atom, max_num"
   ]
  },
  {
   "cell_type": "code",
   "execution_count": 5,
   "metadata": {},
   "outputs": [],
   "source": [
    "mols = [Chem.MolFromSmiles(smi) for smi in smiles]"
   ]
  },
  {
   "cell_type": "code",
   "execution_count": 23,
   "metadata": {},
   "outputs": [
    {
     "data": {
      "image/png": "[encoded data removed]",
      "text/plain": [
       "<rdkit.Chem.rdchem.Mol at 0x7f78f9600f90>"
      ]
     },
     "execution_count": 23,
     "metadata": {},
     "output_type": "execute_result"
    }
   ],
   "source": [
    "mols[0]"
   ]
  },
  {
   "cell_type": "code",
   "execution_count": 27,
   "metadata": {},
   "outputs": [
    {
     "name": "stderr",
     "output_type": "stream",
     "text": [
      "[17:21:48] Can't kekulize mol.  Unkekulized atoms: 0 1 2 3 4 5 6 7 8 9 10\n"
     ]
    }
   ],
   "source": [
    "Chem.MolFromSmiles(\"cccccc-cccccCC1C2C(C)N12\")"
   ]
  },
  {
   "cell_type": "code",
   "execution_count": 7,
   "metadata": {},
   "outputs": [
    {
     "name": "stdout",
     "output_type": "stream",
     "text": [
      "TOTAL NUM OF MOLS:  1273103\n"
     ]
    }
   ],
   "source": [
    "atom2num, num2atom, max_num = get_atoms_info(mols)"
   ]
  },
  {
   "cell_type": "code",
   "execution_count": 22,
   "metadata": {},
   "outputs": [
    {
     "name": "stdout",
     "output_type": "stream",
     "text": [
      "C 0.03805769363678407\n",
      "Br 16.347081228646626\n",
      "N 0.2521717662942678\n",
      "O 0.2571374939894111\n",
      "S 1.9962749509415432\n",
      "Cl 3.4266994716029413\n",
      "F 2.004610604390097\n",
      "P 46.948356807511736\n",
      "I 122.63919548687761\n",
      "B 469.4835680751174\n",
      "Si 519.2107995846313\n",
      "Se 713.2667617689016\n"
     ]
    }
   ],
   "source": [
    "for k,v in c.items(): print(k, 1000000/v)\n"
   ]
  },
  {
   "cell_type": "code",
   "execution_count": 21,
   "metadata": {},
   "outputs": [
    {
     "name": "stdout",
     "output_type": "stream",
     "text": [
      "SINGLE 0.5474413794296493\n",
      "AROMATIC 0.561455769468956\n",
      "DOUBLE 4.079857498737284\n",
      "TRIPLE 117.53505483010308\n"
     ]
    }
   ],
   "source": [
    "for k,v in cc.items(): print(k, 10000000/v)\n"
   ]
  },
  {
   "cell_type": "code",
   "execution_count": null,
   "metadata": {},
   "outputs": [],
   "source": []
  }
 ],
 "metadata": {
  "kernelspec": {
   "display_name": "graphRNN_venv",
   "language": "python",
   "name": "python3"
  },
  "language_info": {
   "codemirror_mode": {
    "name": "ipython",
    "version": 3
   },
   "file_extension": ".py",
   "mimetype": "text/x-python",
   "name": "python",
   "nbconvert_exporter": "python",
   "pygments_lexer": "ipython3",
   "version": "3.11.7"
  }
 },
 "nbformat": 4,
 "nbformat_minor": 2
}
