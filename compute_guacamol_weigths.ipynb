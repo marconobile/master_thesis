{
 "cells": [
  {
   "cell_type": "code",
   "execution_count": 15,
   "metadata": {},
   "outputs": [],
   "source": [
    "def read_smiles_from_file(pathfile: str):\n",
    "    with open(pathfile) as file:\n",
    "        return [line.rstrip() for line in file]"
   ]
  },
  {
   "cell_type": "code",
   "execution_count": 16,
   "metadata": {},
   "outputs": [],
   "source": [
    "guacm_smiles = \"/home/nobilm@usi.ch/master_thesis/guacamol/guacamol_v1_train.smiles\"\n",
    "smiles = read_smiles_from_file(guacm_smiles)"
   ]
  },
  {
   "cell_type": "code",
   "execution_count": 17,
   "metadata": {},
   "outputs": [],
   "source": [
    "from collections import Counter\n",
    "from rdkit import Chem\n",
    "\n",
    "c = Counter()\n",
    "cc = Counter()\n",
    "\n",
    "\n",
    "def get_atoms_info(mols):\n",
    "    atoms = set()\n",
    "    max_num = 0\n",
    "    for num_mol, m in enumerate(mols):\n",
    "        if m.GetNumAtoms() > max_num: max_num = m.GetNumAtoms()\n",
    "\n",
    "        atom_types = [atom.GetSymbol() for atom in m.GetAtoms()]\n",
    "        bond_types = [bond.GetBondType() for bond in m.GetBonds()]\n",
    "\n",
    "        c.update(atom_types)\n",
    "        cc.update(bond_types)\n",
    "        \n",
    "        for atom in atom_types:\n",
    "            atoms.add(atom)\n",
    "        \n",
    "    atom2num = {}\n",
    "    for i, atomType in enumerate(atoms):\n",
    "        atom2num[str(atomType)] = i\n",
    "\n",
    "    num2atom = {v:k for k,v in atom2num.items()}\n",
    "    print(\"TOTAL NUM OF MOLS: \", num_mol)\n",
    "    return atom2num, num2atom, max_num"
   ]
  },
  {
   "cell_type": "code",
   "execution_count": 18,
   "metadata": {},
   "outputs": [],
   "source": [
    "mols = [Chem.MolFromSmiles(smi) for smi in smiles]"
   ]
  },
  {
   "cell_type": "code",
   "execution_count": 19,
   "metadata": {},
   "outputs": [
    {
     "name": "stdout",
     "output_type": "stream",
     "text": [
      "TOTAL NUM OF MOLS:  1273103\n"
     ]
    }
   ],
   "source": [
    "atom2num, num2atom, max_num = get_atoms_info(mols)"
   ]
  },
  {
   "cell_type": "code",
   "execution_count": 20,
   "metadata": {},
   "outputs": [
    {
     "name": "stdout",
     "output_type": "stream",
     "text": [
      "C 3.805769363678407e-08\n",
      "Br 1.6347081228646626e-05\n",
      "N 2.521717662942678e-07\n",
      "O 2.571374939894111e-07\n",
      "S 1.996274950941543e-06\n",
      "Cl 3.4266994716029414e-06\n",
      "F 2.0046106043900974e-06\n",
      "P 4.694835680751174e-05\n",
      "I 0.0001226391954868776\n",
      "B 0.00046948356807511736\n",
      "Si 0.0005192107995846313\n",
      "Se 0.0007132667617689016\n"
     ]
    }
   ],
   "source": [
    "for k,v in c.items(): print(k, 1/v)"
   ]
  },
  {
   "cell_type": "code",
   "execution_count": 21,
   "metadata": {},
   "outputs": [
    {
     "name": "stdout",
     "output_type": "stream",
     "text": [
      "SINGLE 0.5474413794296493\n",
      "AROMATIC 0.561455769468956\n",
      "DOUBLE 4.079857498737284\n",
      "TRIPLE 117.53505483010308\n"
     ]
    }
   ],
   "source": [
    "for k,v in cc.items(): print(k, 10000000/v)"
   ]
  },
  {
   "cell_type": "code",
   "execution_count": null,
   "metadata": {},
   "outputs": [],
   "source": []
  }
 ],
 "metadata": {
  "kernelspec": {
   "display_name": "graphRNN_venv",
   "language": "python",
   "name": "python3"
  },
  "language_info": {
   "codemirror_mode": {
    "name": "ipython",
    "version": 3
   },
   "file_extension": ".py",
   "mimetype": "text/x-python",
   "name": "python",
   "nbconvert_exporter": "python",
   "pygments_lexer": "ipython3",
   "version": "3.11.7"
  }
 },
 "nbformat": 4,
 "nbformat_minor": 2
}
