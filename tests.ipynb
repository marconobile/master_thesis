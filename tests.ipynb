{
 "cells": [
  {
   "cell_type": "code",
   "execution_count": 7,
   "metadata": {},
   "outputs": [],
   "source": [
    "from rdkit import Chem\n",
    "from rdkit.Chem.rdchem import BondType as BT\n"
   ]
  },
  {
   "cell_type": "code",
   "execution_count": 8,
   "metadata": {},
   "outputs": [
    {
     "name": "stdout",
     "output_type": "stream",
     "text": [
      "2.0.1\n"
     ]
    }
   ],
   "source": [
    "import torch\n",
    "print(torch.__version__)\n",
    "import torch.nn.functional as F\n",
    "from torch_sparse import coalesce\n",
    "from torch_geometric.data import Data"
   ]
  },
  {
   "cell_type": "code",
   "execution_count": 27,
   "metadata": {},
   "outputs": [
    {
     "data": {
      "image/png": "[encoded data removed]",
      "text/plain": [
       "<rdkit.Chem.rdchem.Mol at 0x7f68eaad8350>"
      ]
     },
     "execution_count": 27,
     "metadata": {},
     "output_type": "execute_result"
    }
   ],
   "source": [
    "benzene_smi = \"c1ccccc1\"\n",
    "benzene_mol = Chem.MolFromSmiles(benzene_smi)\n",
    "benzene_mol"
   ]
  },
  {
   "cell_type": "code",
   "execution_count": 28,
   "metadata": {},
   "outputs": [],
   "source": [
    "\n",
    "def load_zinc(zinc_mols):\n",
    "    '''\n",
    "    Takes as input a list of molecules objs (either ../data/ZINC_mols_train or ZINC_mols_test) and\n",
    "    returns a list of PyG observations already one-hot encoded\n",
    "    '''\n",
    "\n",
    "    types = {\n",
    "        'C': 0,\n",
    "        'O': 1,\n",
    "        'N': 2,\n",
    "        'F': 3,\n",
    "        'S': 4,\n",
    "        'Cl': 5,\n",
    "        'Br': 6,\n",
    "        'I': 7,\n",
    "        'P': 8\n",
    "    }\n",
    "\n",
    "    # bonds = {\n",
    "    #     BT.SINGLE: 0,\n",
    "    #     BT.DOUBLE: 1,\n",
    "    #     BT.TRIPLE: 2,\n",
    "    #     BT.AROMATIC: 3        \n",
    "    # }\n",
    "\n",
    "\n",
    "    bonds = {\n",
    "        BT.SINGLE: 0,\n",
    "        BT.DOUBLE: 1,\n",
    "        BT.TRIPLE: 2,\n",
    "        BT.AROMATIC: 1        \n",
    "    }\n",
    "\n",
    "\n",
    "\n",
    "    data_list = []\n",
    "    for i, mol in enumerate(zinc_mols):\n",
    "        if mol is None:\n",
    "            continue\n",
    "\n",
    "        N = mol.GetNumAtoms()\n",
    "\n",
    "        type_idx = []\n",
    "        for atom in mol.GetAtoms():\n",
    "            type_idx.append(types[atom.GetSymbol()])\n",
    "\n",
    "        x = F.one_hot(torch.tensor(type_idx), num_classes=len(types))\n",
    "        row, col, bond_idx = [], [], []\n",
    "        for bond in mol.GetBonds():\n",
    "            start, end = bond.GetBeginAtomIdx(), bond.GetEndAtomIdx()\n",
    "            row += [start, end]\n",
    "            col += [end, start]\n",
    "            bond_idx += 2 * [bonds[bond.GetBondType()]]\n",
    "\n",
    "        edge_index = torch.tensor([row, col], dtype=torch.long)\n",
    "        edge_attr = F.one_hot(torch.tensor(bond_idx).to(torch.int64),\n",
    "                              num_classes=len(bonds)).to(torch.float)\n",
    "        edge_index, edge_attr = coalesce(edge_index, edge_attr, N, N)\n",
    "\n",
    "        data = Data(x=x, edge_index=edge_index, edge_attr=edge_attr)\n",
    "        data_list.append(data)\n",
    "\n",
    "    return data_list"
   ]
  },
  {
   "cell_type": "code",
   "execution_count": 29,
   "metadata": {},
   "outputs": [
    {
     "data": {
      "text/plain": [
       "Data(x=[6, 9], edge_index=[2, 12], edge_attr=[12, 4])"
      ]
     },
     "execution_count": 29,
     "metadata": {},
     "output_type": "execute_result"
    }
   ],
   "source": [
    "data = load_zinc([benzene_mol])\n",
    "benzene_pyg = data[0]\n",
    "benzene_pyg"
   ]
  },
  {
   "cell_type": "code",
   "execution_count": 30,
   "metadata": {},
   "outputs": [
    {
     "data": {
      "text/plain": [
       "tensor([[1, 0, 0, 0, 0, 0, 0, 0, 0],\n",
       "        [1, 0, 0, 0, 0, 0, 0, 0, 0],\n",
       "        [1, 0, 0, 0, 0, 0, 0, 0, 0],\n",
       "        [1, 0, 0, 0, 0, 0, 0, 0, 0],\n",
       "        [1, 0, 0, 0, 0, 0, 0, 0, 0],\n",
       "        [1, 0, 0, 0, 0, 0, 0, 0, 0]])"
      ]
     },
     "execution_count": 30,
     "metadata": {},
     "output_type": "execute_result"
    }
   ],
   "source": [
    "benzene_pyg.x"
   ]
  },
  {
   "cell_type": "code",
   "execution_count": 31,
   "metadata": {},
   "outputs": [
    {
     "data": {
      "text/plain": [
       "tensor([[0, 0, 1, 1, 2, 2, 3, 3, 4, 4, 5, 5],\n",
       "        [1, 5, 0, 2, 1, 3, 2, 4, 3, 5, 0, 4]])"
      ]
     },
     "execution_count": 31,
     "metadata": {},
     "output_type": "execute_result"
    }
   ],
   "source": [
    "benzene_pyg.edge_index"
   ]
  },
  {
   "cell_type": "code",
   "execution_count": 32,
   "metadata": {},
   "outputs": [
    {
     "data": {
      "text/plain": [
       "tensor([[0., 1., 0., 0.],\n",
       "        [0., 1., 0., 0.],\n",
       "        [0., 1., 0., 0.],\n",
       "        [0., 1., 0., 0.],\n",
       "        [0., 1., 0., 0.],\n",
       "        [0., 1., 0., 0.],\n",
       "        [0., 1., 0., 0.],\n",
       "        [0., 1., 0., 0.],\n",
       "        [0., 1., 0., 0.],\n",
       "        [0., 1., 0., 0.],\n",
       "        [0., 1., 0., 0.],\n",
       "        [0., 1., 0., 0.]])"
      ]
     },
     "execution_count": 32,
     "metadata": {},
     "output_type": "execute_result"
    }
   ],
   "source": [
    "benzene_pyg.edge_attr"
   ]
  },
  {
   "cell_type": "code",
   "execution_count": null,
   "metadata": {},
   "outputs": [],
   "source": []
  }
 ],
 "metadata": {
  "kernelspec": {
   "display_name": "graphRNN_venv",
   "language": "python",
   "name": "python3"
  },
  "language_info": {
   "codemirror_mode": {
    "name": "ipython",
    "version": 3
   },
   "file_extension": ".py",
   "mimetype": "text/x-python",
   "name": "python",
   "nbconvert_exporter": "python",
   "pygments_lexer": "ipython3",
   "version": "3.11.7"
  }
 },
 "nbformat": 4,
 "nbformat_minor": 2
}
